{
 "cells": [
  {
   "cell_type": "code",
   "execution_count": 54,
   "id": "27305e72",
   "metadata": {},
   "outputs": [],
   "source": [
    "import pandas as pd\n",
    "import matplotlib.pyplot as plt\n",
    "\n",
    "# Read in dataset\n",
    "df = pd.read_csv('data/reduced_qi_filled.csv')"
   ]
  },
  {
   "cell_type": "markdown",
   "id": "43176e29",
   "metadata": {},
   "source": [
    "## Assignment: \n",
    "Assuming that each field other than the user-id and the course name is a quasi-identifier, determine the level of k-anonymity in the file. Then, make the file 5-anonymous using only record suppression; how many records need to be deleted to do this? Try making the file 5-anonymous using only column suppression; how many columns need to be deleted to do this, and which ones are they? Finally, try to produce a 5-anonymous data set using generalization. Finally, see if you can use some combination of these mechanisms to produce a 5-anonymous data set."
   ]
  },
  {
   "cell_type": "markdown",
   "id": "5330ece5",
   "metadata": {},
   "source": [
    "## Step 0: Explore the data"
   ]
  },
  {
   "cell_type": "code",
   "execution_count": 24,
   "id": "67f7b6af",
   "metadata": {},
   "outputs": [
    {
     "name": "stdout",
     "output_type": "stream",
     "text": [
      "Number of attributes: 15\n",
      "Number of records: 199999\n"
     ]
    }
   ],
   "source": [
    "print('Number of attributes:',len(df.columns))\n",
    "print('Number of records:',len(df))"
   ]
  },
  {
   "cell_type": "code",
   "execution_count": 25,
   "id": "7b44edc9",
   "metadata": {},
   "outputs": [
    {
     "data": {
      "text/html": [
       "<div>\n",
       "<style scoped>\n",
       "    .dataframe tbody tr th:only-of-type {\n",
       "        vertical-align: middle;\n",
       "    }\n",
       "\n",
       "    .dataframe tbody tr th {\n",
       "        vertical-align: top;\n",
       "    }\n",
       "\n",
       "    .dataframe thead th {\n",
       "        text-align: right;\n",
       "    }\n",
       "</style>\n",
       "<table border=\"1\" class=\"dataframe\">\n",
       "  <thead>\n",
       "    <tr style=\"text-align: right;\">\n",
       "      <th></th>\n",
       "      <th>course_id</th>\n",
       "      <th>user_id</th>\n",
       "      <th>cc_by_ip</th>\n",
       "      <th>city</th>\n",
       "      <th>postalCode</th>\n",
       "      <th>LoE</th>\n",
       "      <th>YoB</th>\n",
       "      <th>gender</th>\n",
       "      <th>nforum_posts</th>\n",
       "      <th>nforum_votes</th>\n",
       "      <th>nforum_endorsed</th>\n",
       "      <th>nforum_threads</th>\n",
       "      <th>nforum_comments</th>\n",
       "      <th>nforum_pinned</th>\n",
       "      <th>nforum_events</th>\n",
       "    </tr>\n",
       "  </thead>\n",
       "  <tbody>\n",
       "    <tr>\n",
       "      <th>0</th>\n",
       "      <td>HarvardX/PH525.1x/1T2018</td>\n",
       "      <td>29940</td>\n",
       "      <td>US</td>\n",
       "      <td>Austin</td>\n",
       "      <td>78713</td>\n",
       "      <td>NaN</td>\n",
       "      <td>NaN</td>\n",
       "      <td>NaN</td>\n",
       "      <td>0</td>\n",
       "      <td>0</td>\n",
       "      <td>0</td>\n",
       "      <td>0</td>\n",
       "      <td>0</td>\n",
       "      <td>0</td>\n",
       "      <td>0</td>\n",
       "    </tr>\n",
       "    <tr>\n",
       "      <th>1</th>\n",
       "      <td>HarvardX/PH525.1x/1T2018</td>\n",
       "      <td>37095</td>\n",
       "      <td>BD</td>\n",
       "      <td>Dhaka</td>\n",
       "      <td>NaN</td>\n",
       "      <td>b</td>\n",
       "      <td>1991.0</td>\n",
       "      <td>m</td>\n",
       "      <td>0</td>\n",
       "      <td>0</td>\n",
       "      <td>0</td>\n",
       "      <td>0</td>\n",
       "      <td>0</td>\n",
       "      <td>0</td>\n",
       "      <td>0</td>\n",
       "    </tr>\n",
       "    <tr>\n",
       "      <th>2</th>\n",
       "      <td>HarvardX/PH525.1x/1T2018</td>\n",
       "      <td>45634</td>\n",
       "      <td>CO</td>\n",
       "      <td>Medellín</td>\n",
       "      <td>NaN</td>\n",
       "      <td>m</td>\n",
       "      <td>1982.0</td>\n",
       "      <td>m</td>\n",
       "      <td>0</td>\n",
       "      <td>0</td>\n",
       "      <td>0</td>\n",
       "      <td>0</td>\n",
       "      <td>0</td>\n",
       "      <td>0</td>\n",
       "      <td>0</td>\n",
       "    </tr>\n",
       "    <tr>\n",
       "      <th>3</th>\n",
       "      <td>HarvardX/PH525.1x/1T2018</td>\n",
       "      <td>52234</td>\n",
       "      <td>SE</td>\n",
       "      <td>Skanör</td>\n",
       "      <td>NaN</td>\n",
       "      <td>p</td>\n",
       "      <td>1988.0</td>\n",
       "      <td>m</td>\n",
       "      <td>0</td>\n",
       "      <td>0</td>\n",
       "      <td>0</td>\n",
       "      <td>0</td>\n",
       "      <td>0</td>\n",
       "      <td>0</td>\n",
       "      <td>0</td>\n",
       "    </tr>\n",
       "    <tr>\n",
       "      <th>4</th>\n",
       "      <td>HarvardX/PH525.1x/1T2018</td>\n",
       "      <td>52238</td>\n",
       "      <td>MX</td>\n",
       "      <td>León</td>\n",
       "      <td>NaN</td>\n",
       "      <td>NaN</td>\n",
       "      <td>NaN</td>\n",
       "      <td>NaN</td>\n",
       "      <td>0</td>\n",
       "      <td>0</td>\n",
       "      <td>0</td>\n",
       "      <td>0</td>\n",
       "      <td>0</td>\n",
       "      <td>0</td>\n",
       "      <td>0</td>\n",
       "    </tr>\n",
       "  </tbody>\n",
       "</table>\n",
       "</div>"
      ],
      "text/plain": [
       "                  course_id  user_id cc_by_ip      city postalCode  LoE  \\\n",
       "0  HarvardX/PH525.1x/1T2018    29940       US    Austin      78713  NaN   \n",
       "1  HarvardX/PH525.1x/1T2018    37095       BD     Dhaka        NaN    b   \n",
       "2  HarvardX/PH525.1x/1T2018    45634       CO  Medellín        NaN    m   \n",
       "3  HarvardX/PH525.1x/1T2018    52234       SE    Skanör        NaN    p   \n",
       "4  HarvardX/PH525.1x/1T2018    52238       MX      León        NaN  NaN   \n",
       "\n",
       "      YoB gender  nforum_posts  nforum_votes  nforum_endorsed  nforum_threads  \\\n",
       "0     NaN    NaN             0             0                0               0   \n",
       "1  1991.0      m             0             0                0               0   \n",
       "2  1982.0      m             0             0                0               0   \n",
       "3  1988.0      m             0             0                0               0   \n",
       "4     NaN    NaN             0             0                0               0   \n",
       "\n",
       "   nforum_comments  nforum_pinned  nforum_events  \n",
       "0                0              0              0  \n",
       "1                0              0              0  \n",
       "2                0              0              0  \n",
       "3                0              0              0  \n",
       "4                0              0              0  "
      ]
     },
     "execution_count": 25,
     "metadata": {},
     "output_type": "execute_result"
    }
   ],
   "source": [
    "#df.head()"
   ]
  },
  {
   "cell_type": "markdown",
   "id": "2e909027",
   "metadata": {},
   "source": [
    "## Step 1: Remove identifiers (user_id and course_id)\n",
    "This leaves only quasi-identifiers."
   ]
  },
  {
   "cell_type": "code",
   "execution_count": 26,
   "id": "fca8226d",
   "metadata": {},
   "outputs": [],
   "source": [
    "df_quasi = df.drop(columns=['user_id','course_id'])"
   ]
  },
  {
   "cell_type": "code",
   "execution_count": 27,
   "id": "e551c946",
   "metadata": {},
   "outputs": [
    {
     "data": {
      "text/html": [
       "<div>\n",
       "<style scoped>\n",
       "    .dataframe tbody tr th:only-of-type {\n",
       "        vertical-align: middle;\n",
       "    }\n",
       "\n",
       "    .dataframe tbody tr th {\n",
       "        vertical-align: top;\n",
       "    }\n",
       "\n",
       "    .dataframe thead th {\n",
       "        text-align: right;\n",
       "    }\n",
       "</style>\n",
       "<table border=\"1\" class=\"dataframe\">\n",
       "  <thead>\n",
       "    <tr style=\"text-align: right;\">\n",
       "      <th></th>\n",
       "      <th>cc_by_ip</th>\n",
       "      <th>city</th>\n",
       "      <th>postalCode</th>\n",
       "      <th>LoE</th>\n",
       "      <th>YoB</th>\n",
       "      <th>gender</th>\n",
       "      <th>nforum_posts</th>\n",
       "      <th>nforum_votes</th>\n",
       "      <th>nforum_endorsed</th>\n",
       "      <th>nforum_threads</th>\n",
       "      <th>nforum_comments</th>\n",
       "      <th>nforum_pinned</th>\n",
       "      <th>nforum_events</th>\n",
       "    </tr>\n",
       "  </thead>\n",
       "  <tbody>\n",
       "    <tr>\n",
       "      <th>0</th>\n",
       "      <td>US</td>\n",
       "      <td>Austin</td>\n",
       "      <td>78713</td>\n",
       "      <td>NaN</td>\n",
       "      <td>NaN</td>\n",
       "      <td>NaN</td>\n",
       "      <td>0</td>\n",
       "      <td>0</td>\n",
       "      <td>0</td>\n",
       "      <td>0</td>\n",
       "      <td>0</td>\n",
       "      <td>0</td>\n",
       "      <td>0</td>\n",
       "    </tr>\n",
       "    <tr>\n",
       "      <th>1</th>\n",
       "      <td>BD</td>\n",
       "      <td>Dhaka</td>\n",
       "      <td>NaN</td>\n",
       "      <td>b</td>\n",
       "      <td>1991.0</td>\n",
       "      <td>m</td>\n",
       "      <td>0</td>\n",
       "      <td>0</td>\n",
       "      <td>0</td>\n",
       "      <td>0</td>\n",
       "      <td>0</td>\n",
       "      <td>0</td>\n",
       "      <td>0</td>\n",
       "    </tr>\n",
       "    <tr>\n",
       "      <th>2</th>\n",
       "      <td>CO</td>\n",
       "      <td>Medellín</td>\n",
       "      <td>NaN</td>\n",
       "      <td>m</td>\n",
       "      <td>1982.0</td>\n",
       "      <td>m</td>\n",
       "      <td>0</td>\n",
       "      <td>0</td>\n",
       "      <td>0</td>\n",
       "      <td>0</td>\n",
       "      <td>0</td>\n",
       "      <td>0</td>\n",
       "      <td>0</td>\n",
       "    </tr>\n",
       "    <tr>\n",
       "      <th>3</th>\n",
       "      <td>SE</td>\n",
       "      <td>Skanör</td>\n",
       "      <td>NaN</td>\n",
       "      <td>p</td>\n",
       "      <td>1988.0</td>\n",
       "      <td>m</td>\n",
       "      <td>0</td>\n",
       "      <td>0</td>\n",
       "      <td>0</td>\n",
       "      <td>0</td>\n",
       "      <td>0</td>\n",
       "      <td>0</td>\n",
       "      <td>0</td>\n",
       "    </tr>\n",
       "    <tr>\n",
       "      <th>4</th>\n",
       "      <td>MX</td>\n",
       "      <td>León</td>\n",
       "      <td>NaN</td>\n",
       "      <td>NaN</td>\n",
       "      <td>NaN</td>\n",
       "      <td>NaN</td>\n",
       "      <td>0</td>\n",
       "      <td>0</td>\n",
       "      <td>0</td>\n",
       "      <td>0</td>\n",
       "      <td>0</td>\n",
       "      <td>0</td>\n",
       "      <td>0</td>\n",
       "    </tr>\n",
       "  </tbody>\n",
       "</table>\n",
       "</div>"
      ],
      "text/plain": [
       "  cc_by_ip      city postalCode  LoE     YoB gender  nforum_posts  \\\n",
       "0       US    Austin      78713  NaN     NaN    NaN             0   \n",
       "1       BD     Dhaka        NaN    b  1991.0      m             0   \n",
       "2       CO  Medellín        NaN    m  1982.0      m             0   \n",
       "3       SE    Skanör        NaN    p  1988.0      m             0   \n",
       "4       MX      León        NaN  NaN     NaN    NaN             0   \n",
       "\n",
       "   nforum_votes  nforum_endorsed  nforum_threads  nforum_comments  \\\n",
       "0             0                0               0                0   \n",
       "1             0                0               0                0   \n",
       "2             0                0               0                0   \n",
       "3             0                0               0                0   \n",
       "4             0                0               0                0   \n",
       "\n",
       "   nforum_pinned  nforum_events  \n",
       "0              0              0  \n",
       "1              0              0  \n",
       "2              0              0  \n",
       "3              0              0  \n",
       "4              0              0  "
      ]
     },
     "execution_count": 27,
     "metadata": {},
     "output_type": "execute_result"
    }
   ],
   "source": [
    "#df_quasi.head()"
   ]
  },
  {
   "cell_type": "markdown",
   "id": "f8f075ab",
   "metadata": {},
   "source": [
    "## Step 2: Determine current k-level of anonymity"
   ]
  },
  {
   "cell_type": "code",
   "execution_count": 28,
   "id": "0501de85",
   "metadata": {},
   "outputs": [
    {
     "name": "stdout",
     "output_type": "stream",
     "text": [
      "Number of unique rows: 132343\n"
     ]
    }
   ],
   "source": [
    "# Sanity check for k-anonymity\n",
    "print('Number of unique rows:',len(df_quasi.drop_duplicates()))"
   ]
  },
  {
   "cell_type": "code",
   "execution_count": 51,
   "id": "1ed3664d",
   "metadata": {},
   "outputs": [
    {
     "name": "stdout",
     "output_type": "stream",
     "text": [
      "Number of unique rows: 132343\n"
     ]
    }
   ],
   "source": [
    "# For each unique row, get counts (the count of each row tells us how k-anonymous each row is)\n",
    "# and move to front of df for debugging\n",
    "df_counts = df_quasi.groupby(list(df_quasi.columns), dropna=False).size().to_frame('counts').reset_index()\n",
    "cols = list(df_counts.columns)\n",
    "df_counts = df_counts[[cols[-1]] + cols[:-1]]\n",
    "\n",
    "print('Number of unique rows:',len(df_counts))"
   ]
  },
  {
   "cell_type": "code",
   "execution_count": 52,
   "id": "5e784472",
   "metadata": {},
   "outputs": [],
   "source": [
    "#df_counts.head()"
   ]
  },
  {
   "cell_type": "code",
   "execution_count": 69,
   "id": "bbaff037",
   "metadata": {},
   "outputs": [
    {
     "data": {
      "image/png": "[encoded data removed]",
      "text/plain": [
       "<Figure size 432x288 with 1 Axes>"
      ]
     },
     "metadata": {
      "needs_background": "light"
     },
     "output_type": "display_data"
    }
   ],
   "source": [
    "# Plot unique records and their counts\n",
    "plt.hist(df_counts[['counts']],range=(0,10),bins=10,rwidth=0.5,align='left')\n",
    "plt.title('Unique records and their counts\\nin quasi-identified dataset')\n",
    "plt.xlabel('Counts')\n",
    "plt.ylabel('Number of unique records')\n",
    "plt.show()"
   ]
  },
  {
   "cell_type": "code",
   "execution_count": 113,
   "id": "a0e7ee9b",
   "metadata": {},
   "outputs": [
    {
     "name": "stdout",
     "output_type": "stream",
     "text": [
      "113906 record(s) are 113906 anonymous\n",
      "10397 record(s) are 10397 anonymous\n",
      "3238 record(s) are 3238 anonymous\n",
      "1468 record(s) are 1468 anonymous\n",
      "845 record(s) are 845 anonymous\n",
      "519 record(s) are 519 anonymous\n",
      "380 record(s) are 380 anonymous\n",
      "267 record(s) are 267 anonymous\n",
      "180 record(s) are 180 anonymous\n"
     ]
    }
   ],
   "source": [
    "# Get more details\n",
    "freq = df_counts[['counts']].value_counts().sort_index()\n",
    "freq_dict = dict(zip(freq.index, freq.values))\n",
    "for i in range(1,10):\n",
    "    print(freq_dict[(i,)],'record(s) are',freq_dict[(i,)],'anonymous')"
   ]
  },
  {
   "cell_type": "markdown",
   "id": "2b005d9f",
   "metadata": {},
   "source": [
    "It appears that the dataset is currently 1-anonymous (so not anonomys at all), since most records have a count of 1--meaning that they are unique."
   ]
  },
  {
   "cell_type": "markdown",
   "id": "ffd16735",
   "metadata": {},
   "source": [
    "## Step 3: Make dataset 5-anonymous with suppression"
   ]
  },
  {
   "cell_type": "markdown",
   "id": "d8b31e0c",
   "metadata": {},
   "source": [
    "First, I try to do this logically. I need to remove records that are 1-, 2-, 3-, and 4-anonymous. From before, I calculated these counts. I can find the sum and then approach it another way to sanity check."
   ]
  },
  {
   "cell_type": "code",
   "execution_count": 117,
   "id": "60c887b6",
   "metadata": {},
   "outputs": [
    {
     "name": "stdout",
     "output_type": "stream",
     "text": [
      "Records to suppress: 129009\n",
      "Percent of records to suppress: 65 %\n"
     ]
    }
   ],
   "source": [
    "suppress_num = 0\n",
    "for i in range(1,5):\n",
    "    suppress_num+=freq_dict[(i,)]\n",
    "print('Records to suppress:',suppress_num)\n",
    "print('Percent of records to suppress:',round(suppress_num/len(df)*100),'%')"
   ]
  },
  {
   "cell_type": "code",
   "execution_count": null,
   "id": "1c03b577",
   "metadata": {},
   "outputs": [],
   "source": []
  }
 ],
 "metadata": {
  "kernelspec": {
   "display_name": "Python 3",
   "language": "python",
   "name": "python3"
  },
  "language_info": {
   "codemirror_mode": {
    "name": "ipython",
    "version": 3
   },
   "file_extension": ".py",
   "mimetype": "text/x-python",
   "name": "python",
   "nbconvert_exporter": "python",
   "pygments_lexer": "ipython3",
   "version": "3.8.8"
  }
 },
 "nbformat": 4,
 "nbformat_minor": 5
}
