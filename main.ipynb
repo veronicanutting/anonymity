{
 "cells": [
  {
   "cell_type": "code",
   "execution_count": 1,
   "id": "27305e72",
   "metadata": {},
   "outputs": [],
   "source": [
    "import pandas as pd\n",
    "import matplotlib.pyplot as plt\n",
    "\n",
    "# Read in dataset\n",
    "df = pd.read_csv('data/reduced_qi_filled.csv')\n",
    "\n",
    "pd.set_option('display.max_rows', 100)"
   ]
  },
  {
   "cell_type": "markdown",
   "id": "43176e29",
   "metadata": {},
   "source": [
    "# Assignment: \n",
    "Assuming that each field other than the user-id and the course name is a quasi-identifier, determine the level of k-anonymity in the file. Then, make the file 5-anonymous using only record suppression; how many records need to be deleted to do this? Try making the file 5-anonymous using only column suppression; how many columns need to be deleted to do this, and which ones are they? Finally, try to produce a 5-anonymous data set using generalization. Finally, see if you can use some combination of these mechanisms to produce a 5-anonymous data set."
   ]
  },
  {
   "cell_type": "markdown",
   "id": "b900854d",
   "metadata": {},
   "source": [
    "# References\n",
    "\n",
    "Dr. Latanya Sweeney's \"Achieving _k_-anonymity privacy protection using generalization and suppression\" (2002)\n",
    "https://dataprivacylab.org/dataprivacy/projects/kanonymity/kanonymity2.pdf"
   ]
  },
  {
   "cell_type": "markdown",
   "id": "5330ece5",
   "metadata": {},
   "source": [
    "# Step 0: Explore the data"
   ]
  },
  {
   "cell_type": "code",
   "execution_count": 27,
   "id": "67f7b6af",
   "metadata": {},
   "outputs": [
    {
     "name": "stdout",
     "output_type": "stream",
     "text": [
      "Number of attributes (columns): 15\n",
      "Number of records (rows): 199999\n"
     ]
    }
   ],
   "source": [
    "print('Number of attributes (columns):',len(df.columns))\n",
    "print('Number of records (rows):',len(df))"
   ]
  },
  {
   "cell_type": "code",
   "execution_count": 3,
   "id": "7b44edc9",
   "metadata": {},
   "outputs": [],
   "source": [
    "#df.head()"
   ]
  },
  {
   "cell_type": "markdown",
   "id": "2e909027",
   "metadata": {},
   "source": [
    "# Step 1: Remove identifiers (user_id and course_id)\n",
    "This leaves only quasi-identifiers."
   ]
  },
  {
   "cell_type": "code",
   "execution_count": 4,
   "id": "fca8226d",
   "metadata": {},
   "outputs": [],
   "source": [
    "df_quasi = df.drop(columns=['user_id','course_id'])"
   ]
  },
  {
   "cell_type": "code",
   "execution_count": 5,
   "id": "e551c946",
   "metadata": {},
   "outputs": [],
   "source": [
    "#df_quasi.head()"
   ]
  },
  {
   "cell_type": "markdown",
   "id": "f8f075ab",
   "metadata": {},
   "source": [
    "# Step 2: Determine current k-level of anonymity"
   ]
  },
  {
   "cell_type": "code",
   "execution_count": 6,
   "id": "0501de85",
   "metadata": {},
   "outputs": [
    {
     "name": "stdout",
     "output_type": "stream",
     "text": [
      "Number of unique rows: 132343\n"
     ]
    }
   ],
   "source": [
    "# Sanity check for k-anonymity\n",
    "print('Number of unique rows:',len(df_quasi.drop_duplicates()))"
   ]
  },
  {
   "cell_type": "code",
   "execution_count": 7,
   "id": "1ed3664d",
   "metadata": {},
   "outputs": [
    {
     "name": "stdout",
     "output_type": "stream",
     "text": [
      "Number of unique rows: 132343\n",
      "Number of all rows: 199999\n"
     ]
    }
   ],
   "source": [
    "# For each unique row, get counts (the count of each row tells us how k-anonymous each row is)\n",
    "# and move to front of df for debugging\n",
    "df_counts = df_quasi.groupby(list(df_quasi.columns), dropna=False).size().to_frame('counts').reset_index()\n",
    "cols = list(df_counts.columns)\n",
    "df_counts = df_counts[[cols[-1]] + cols[:-1]]\n",
    "\n",
    "print('Number of unique rows:',len(df_counts))\n",
    "print('Number of all rows:',df_counts['counts'].sum())"
   ]
  },
  {
   "cell_type": "code",
   "execution_count": 8,
   "id": "5e784472",
   "metadata": {},
   "outputs": [],
   "source": [
    "#df_counts.head()"
   ]
  },
  {
   "cell_type": "code",
   "execution_count": 9,
   "id": "bbaff037",
   "metadata": {},
   "outputs": [
    {
     "data": {
      "image/png": "[encoded data removed]",
      "text/plain": [
       "<Figure size 432x288 with 1 Axes>"
      ]
     },
     "metadata": {
      "needs_background": "light"
     },
     "output_type": "display_data"
    }
   ],
   "source": [
    "# Plot unique records and their counts\n",
    "plt.hist(df_counts[['counts']],range=(0,10),bins=10,rwidth=0.5,align='left')\n",
    "plt.title('Unique records and their counts\\nin quasi-identified dataset:\\nOver half of all the records are unique (1-anonymous)')\n",
    "plt.xlabel('Counts')\n",
    "plt.ylabel(f'Number of unique records\\nTotal records={df_counts.counts.sum()}')\n",
    "plt.show()"
   ]
  },
  {
   "cell_type": "code",
   "execution_count": 10,
   "id": "a0e7ee9b",
   "metadata": {},
   "outputs": [
    {
     "name": "stdout",
     "output_type": "stream",
     "text": [
      "113906 record(s) are 1 anonymous\n",
      "10397 record(s) are 2 anonymous\n",
      "3238 record(s) are 3 anonymous\n",
      "1468 record(s) are 4 anonymous\n",
      "845 record(s) are 5 anonymous\n",
      "519 record(s) are 6 anonymous\n",
      "380 record(s) are 7 anonymous\n",
      "267 record(s) are 8 anonymous\n",
      "180 record(s) are 9 anonymous\n"
     ]
    }
   ],
   "source": [
    "# Get more details\n",
    "freq = df_counts[['counts']].value_counts().sort_index()\n",
    "freq_dict = dict(zip(freq.index,freq.values))\n",
    "for i in range(1,10):\n",
    "    print(freq_dict[(i,)],'record(s) are',i,'anonymous')"
   ]
  },
  {
   "cell_type": "markdown",
   "id": "2b005d9f",
   "metadata": {},
   "source": [
    "It appears that the dataset is currently 1-anonymous (so not anonomys at all), since most records have a count of 1--meaning that they are unique."
   ]
  },
  {
   "cell_type": "code",
   "execution_count": 11,
   "id": "90a475df",
   "metadata": {},
   "outputs": [],
   "source": [
    "# I wrote this function based on Theorem 1 of Dr. Sweeney's paper (linked at top)\n",
    "def returnMinKAnon(df):\n",
    "    min_k = 100 # start at large value\n",
    "    for c in df.columns:\n",
    "        counts = df[c].value_counts()\n",
    "        if counts[counts.idxmin()]<min_k:\n",
    "            min_k = counts[counts.idxmin()]\n",
    "            #print(counts.idxmin(),counts[counts.idxmin()]) # for debugging\n",
    "    return min_k"
   ]
  },
  {
   "cell_type": "code",
   "execution_count": 12,
   "id": "fa88fb45",
   "metadata": {},
   "outputs": [
    {
     "name": "stdout",
     "output_type": "stream",
     "text": [
      "Should be 1: 1\n"
     ]
    }
   ],
   "source": [
    "# Sanity check\n",
    "print('Should be 1:',returnMinKAnon(df_quasi))"
   ]
  },
  {
   "cell_type": "markdown",
   "id": "ffd16735",
   "metadata": {},
   "source": [
    "# Step 3: Make dataset 5-anonymous only with record suppression"
   ]
  },
  {
   "cell_type": "markdown",
   "id": "d8b31e0c",
   "metadata": {},
   "source": [
    "First, I try to do this logically. I need to remove records that are 1-, 2-, 3-, and 4-anonymous. From before, I calculated these counts. I can find the sum and then approach it another way to sanity check. For this, I used Sweeney Figure 1 as a model."
   ]
  },
  {
   "cell_type": "code",
   "execution_count": 13,
   "id": "1c03b577",
   "metadata": {},
   "outputs": [
    {
     "name": "stdout",
     "output_type": "stream",
     "text": [
      "49713 records are k>=5 anonymous\n",
      "150286 records are k<4 anonymous\n",
      "All records: 199999 199999\n",
      "Percent of records to suppress: 75 %\n"
     ]
    }
   ],
   "source": [
    "df_1 = df_counts[df_counts.counts>4] # k>=5 anonymous\n",
    "df_2 = df_counts[df_counts.counts<=4] # k<5 anonymous\n",
    "\n",
    "print(df_1['counts'].sum(),'records are k>=5 anonymous')\n",
    "print(df_2['counts'].sum(),'records are k<4 anonymous')\n",
    "print('All records:',df_1['counts'].sum()+df_2['counts'].sum(),len(df_quasi)) # sanity check\n",
    "\n",
    "print('Percent of records to suppress:',round(df_2['counts'].sum()/len(df_quasi)*100),'%')"
   ]
  },
  {
   "cell_type": "code",
   "execution_count": 14,
   "id": "0bc042ee",
   "metadata": {
    "scrolled": true
   },
   "outputs": [
    {
     "name": "stdout",
     "output_type": "stream",
     "text": [
      "Size of row suppressed dataset 49713\n"
     ]
    }
   ],
   "source": [
    "df_row_suppressed = pd.merge(df_1.drop(columns=['counts']),df_quasi)\n",
    "print('Size of row suppressed dataset',len(df_row_suppressed))\n",
    "#df_row_suppressed.head()"
   ]
  },
  {
   "cell_type": "code",
   "execution_count": 15,
   "id": "a0feb6f1",
   "metadata": {},
   "outputs": [
    {
     "name": "stdout",
     "output_type": "stream",
     "text": [
      "Should be 5: 5\n"
     ]
    }
   ],
   "source": [
    "# Sanity check\n",
    "print('Should be 5:',returnMinKAnon(df_row_suppressed))"
   ]
  },
  {
   "cell_type": "markdown",
   "id": "07e17299",
   "metadata": {},
   "source": [
    "# Step 4: Make dataset 5-anonymous only with column suppression"
   ]
  },
  {
   "cell_type": "markdown",
   "id": "03d81bb1",
   "metadata": {},
   "source": [
    "According to Dr. Sweeney (Theorem 1 and Example 2), a table is k-anonymous if each value in each attribute appears at least k times. So, I think I can design my column suppression strategy by looking at the value_counts within each attribute."
   ]
  },
  {
   "cell_type": "code",
   "execution_count": 16,
   "id": "190842b3",
   "metadata": {},
   "outputs": [
    {
     "name": "stdout",
     "output_type": "stream",
     "text": [
      "Quasi identifier: cc_by_ip\n",
      "Most common US 59604\n",
      "Least common AI 1 \n",
      "\n",
      "Quasi identifier: city\n",
      "Most common London 1894\n",
      "Least common Rosengarten 1 \n",
      "\n",
      "Quasi identifier: postalCode\n",
      "Most common K2H 582\n",
      "Least common 72520 1 \n",
      "\n",
      "Quasi identifier: LoE\n",
      "Most common b 59422\n",
      "Least common none 535 \n",
      "\n",
      "Quasi identifier: YoB\n",
      "Most common 1990.0 8664\n",
      "Least common 1910.0 1 \n",
      "\n",
      "Quasi identifier: gender\n",
      "Most common m 102399\n",
      "Least common o 978 \n",
      "\n",
      "Quasi identifier: nforum_posts\n",
      "Most common 0 192059\n",
      "Least common 95 1 \n",
      "\n",
      "Quasi identifier: nforum_votes\n",
      "Most common 0 197690\n",
      "Least common 74 1 \n",
      "\n",
      "Quasi identifier: nforum_endorsed\n",
      "Most common 0 199904\n",
      "Least common 5 1 \n",
      "\n",
      "Quasi identifier: nforum_threads\n",
      "Most common 0 195576\n",
      "Least common 71 1 \n",
      "\n",
      "Quasi identifier: nforum_comments\n",
      "Most common 0 194537\n",
      "Least common 220 1 \n",
      "\n",
      "Quasi identifier: nforum_pinned\n",
      "Most common 0 199987\n",
      "Least common 2 1 \n",
      "\n",
      "Quasi identifier: nforum_events\n",
      "Most common 0 184430\n",
      "Least common 1168 1 \n",
      "\n"
     ]
    }
   ],
   "source": [
    "# Iterate over each column, check the counts of each attribute, and\n",
    "# keep track of columns where all attributes appear >5 times\n",
    "cols_to_keep = []\n",
    "for c in df_quasi.columns:\n",
    "    counts = df_quasi[c].value_counts()\n",
    "    print('Quasi identifier:',c)\n",
    "    print('Most common',counts.idxmax(),counts[counts.idxmax()])\n",
    "    print('Least common',counts.idxmin(),counts[counts.idxmin()],'\\n')\n",
    "    if counts[counts.idxmin()] > 4:\n",
    "        cols_to_keep.append(c)"
   ]
  },
  {
   "cell_type": "code",
   "execution_count": 17,
   "id": "663d3e60",
   "metadata": {},
   "outputs": [
    {
     "name": "stdout",
     "output_type": "stream",
     "text": [
      "['LoE', 'gender']\n"
     ]
    }
   ],
   "source": [
    "# The only columns we can keep\n",
    "print(cols_to_keep)"
   ]
  },
  {
   "cell_type": "code",
   "execution_count": 18,
   "id": "5f2ff365",
   "metadata": {},
   "outputs": [
    {
     "name": "stdout",
     "output_type": "stream",
     "text": [
      "Size of col suppressed dataset 199999\n",
      "Num of columns originally 13\n",
      "Num of columns now 2\n"
     ]
    }
   ],
   "source": [
    "df_col_suppressed = df_quasi[cols_to_keep]\n",
    "print('Size of col suppressed dataset',len(df_col_suppressed))\n",
    "print('Num of columns originally',len(df_quasi.columns))\n",
    "print('Num of columns now',len(df_col_suppressed.columns))\n",
    "#df_col_suppressed.head()"
   ]
  },
  {
   "cell_type": "code",
   "execution_count": 19,
   "id": "9c3794b1",
   "metadata": {},
   "outputs": [
    {
     "name": "stdout",
     "output_type": "stream",
     "text": [
      "Should be >5: 100\n"
     ]
    }
   ],
   "source": [
    "# Sanity check\n",
    "print('Should be >5:',returnMinKAnon(df_col_suppressed)) # really is higher"
   ]
  },
  {
   "cell_type": "markdown",
   "id": "b4d05b06",
   "metadata": {},
   "source": [
    "## Step 5: Make dataset 5-anonymous only with generalization"
   ]
  },
  {
   "cell_type": "code",
   "execution_count": 28,
   "id": "6cacdf9e",
   "metadata": {},
   "outputs": [],
   "source": [
    "# Look in detail at each attribute\n",
    "cols = ['nforum_posts', 'nforum_votes', 'nforum_endorsed', 'nforum_threads',\n",
    "       'nforum_comments', 'nforum_pinned', 'nforum_events','YoB']\n",
    "verbose = False\n",
    "if verbose:\n",
    "    for c in cols:\n",
    "        counts = df_quasi[c].value_counts().sort_index()\n",
    "        print('Quasi identifier:',c)\n",
    "        for k,v in counts.items():\n",
    "            print(k,v)\n",
    "        print()"
   ]
  },
  {
   "cell_type": "markdown",
   "id": "f64f99b2",
   "metadata": {},
   "source": [
    "From the numeric values of each attribute above, I think I can generalize the values above by roughly finding at which point do the value counts dip below 5. Before this point, I can bucket all smaller values into one larger, more general bucket. I could do this algorithmically, but in the interest of time I will do this a bit more observationally."
   ]
  },
  {
   "cell_type": "markdown",
   "id": "c6bebc16",
   "metadata": {},
   "source": [
    "From what I see above, I should make the following cutoffs:\n",
    "- nforum_posts >42\n",
    "- nforum_votes >23\n",
    "- nforum_endorsed >3\n",
    "- nforum_threads >24\n",
    "- nforum_comments >41\n",
    "- nforum_pinned >1\n",
    "- nforum_events >122\n",
    "- YoB <1923"
   ]
  },
  {
   "cell_type": "code",
   "execution_count": 29,
   "id": "9ab5de99",
   "metadata": {},
   "outputs": [],
   "source": [
    "# Look in detail at each categorical attribute\n",
    "cols2 = ['postalCode','cc_by_ip', 'city']\n",
    "verbose = False\n",
    "if verbose:\n",
    "    for c in cols2:\n",
    "        counts = df_quasi[c].value_counts().sort_index()\n",
    "        print('Quasi identifier:',c)\n",
    "        for k,v in counts.items():\n",
    "            print(k,v)\n",
    "        print()"
   ]
  },
  {
   "cell_type": "markdown",
   "id": "3ac9b4bd",
   "metadata": {},
   "source": [
    "To generalize these others I would need a more sophisticated approach (for instance, mapping country codes to regions or cities to countries). I'm less sure about how I could generalize zip codes since these are not US-only zip codes. For now, I will generalize these columns by mapping all of them to a single value, '*'."
   ]
  },
  {
   "cell_type": "code",
   "execution_count": 22,
   "id": "02cbf332",
   "metadata": {},
   "outputs": [],
   "source": [
    "# Use our above findings to add some generalization\n",
    "df_gen = df_quasi.copy()\n",
    "df_gen.loc[df_gen.nforum_posts>42, 'nforum_posts'] = '>42'\n",
    "df_gen.loc[df_gen.nforum_votes>23, 'nforum_votes'] = '>23'\n",
    "df_gen.loc[df_gen.nforum_endorsed>3, 'nforum_endorsed'] = '>3'\n",
    "df_gen.loc[df_gen.nforum_threads>24, 'nforum_threads'] = '>24'\n",
    "df_gen.loc[df_gen.nforum_comments>41, 'nforum_comments'] = '>41'\n",
    "df_gen.loc[df_gen.nforum_pinned>1, 'nforum_pinned'] = '>1'\n",
    "df_gen.loc[df_gen.nforum_events>122, 'nforum_events'] = '>122'\n",
    "df_gen.loc[df_gen.YoB<1923, 'YoB'] = '<1923'\n",
    "df_gen[['city','postalCode']]='*','*'\n",
    "\n",
    "df_mix = df_gen.copy() # used later\n",
    "\n",
    "df_gen[['cc_by_ip']]='*'\n",
    "\n",
    "#df_gen.head()"
   ]
  },
  {
   "cell_type": "code",
   "execution_count": 23,
   "id": "31080368",
   "metadata": {},
   "outputs": [
    {
     "name": "stdout",
     "output_type": "stream",
     "text": [
      "Should be 5: 5\n"
     ]
    }
   ],
   "source": [
    "# Sanity check\n",
    "print('Should be 5:',returnMinKAnon(df_gen))"
   ]
  },
  {
   "cell_type": "markdown",
   "id": "446f67c2",
   "metadata": {},
   "source": [
    "## Step 6: Make dataset 5-anonymous using mixed strategy"
   ]
  },
  {
   "cell_type": "markdown",
   "id": "2de9db41",
   "metadata": {},
   "source": [
    "I'll start with using my generalization cutoffs from before. Then I use column suppression to suppress 'postalCode' and 'city'. Lastly, I use record suppression to 5-anonymize 'cc_by_ip'."
   ]
  },
  {
   "cell_type": "code",
   "execution_count": 30,
   "id": "49325eb6",
   "metadata": {},
   "outputs": [],
   "source": [
    "# Bring in \n",
    "df_mix_counts = df_mix.groupby(list(df_mix.columns), dropna=False).size().to_frame('counts').reset_index()\n",
    "df_mix_keep = df_mix_counts[df_mix_counts.counts>4] # k>=5 anonymous\n",
    "df_mix_final = pd.merge(df_mix_keep.drop(columns=['counts']),df_mix)\n",
    "#df_mix_final.head()"
   ]
  },
  {
   "cell_type": "code",
   "execution_count": 25,
   "id": "676362e2",
   "metadata": {},
   "outputs": [
    {
     "name": "stdout",
     "output_type": "stream",
     "text": [
      "Size of mixed approach dataset 146246\n",
      "Num of columns originally 13\n",
      "Num of columns now 13\n"
     ]
    }
   ],
   "source": [
    "print('Size of mixed approach dataset',len(df_mix_final))\n",
    "print('Num of columns originally',len(df_quasi.columns))\n",
    "print('Num of columns now',len(df_mix_final.columns))"
   ]
  },
  {
   "cell_type": "code",
   "execution_count": 26,
   "id": "58e4660d",
   "metadata": {},
   "outputs": [
    {
     "name": "stdout",
     "output_type": "stream",
     "text": [
      "Should be 5: 5\n"
     ]
    }
   ],
   "source": [
    "# Sanity check\n",
    "print('Should be 5:',returnMinKAnon(df_mix_final))"
   ]
  },
  {
   "cell_type": "code",
   "execution_count": null,
   "id": "e06fded5",
   "metadata": {},
   "outputs": [],
   "source": []
  }
 ],
 "metadata": {
  "kernelspec": {
   "display_name": "Python 3",
   "language": "python",
   "name": "python3"
  },
  "language_info": {
   "codemirror_mode": {
    "name": "ipython",
    "version": 3
   },
   "file_extension": ".py",
   "mimetype": "text/x-python",
   "name": "python",
   "nbconvert_exporter": "python",
   "pygments_lexer": "ipython3",
   "version": "3.8.8"
  }
 },
 "nbformat": 4,
 "nbformat_minor": 5
}
